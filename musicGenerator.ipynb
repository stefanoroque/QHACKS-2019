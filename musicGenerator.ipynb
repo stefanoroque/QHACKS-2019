{
 "cells": [
  {
   "cell_type": "code",
   "execution_count": 16,
   "metadata": {
    "scrolled": true
   },
   "outputs": [],
   "source": [
    "import keras\n",
    "import numpy"
   ]
  },
  {
   "cell_type": "code",
   "execution_count": 10,
   "metadata": {},
   "outputs": [],
   "source": [
    "from music21 import converter, note, chord, instrument"
   ]
  },
  {
   "cell_type": "code",
   "execution_count": 14,
   "metadata": {
    "collapsed": true
   },
   "outputs": [
    {
     "name": "stdout",
     "output_type": "stream",
     "text": [
      "<music21.stream.Score 0x130f1c6d8>\n<music21.stream.iterator.RecursiveIterator for Part:Piano @:0>\n['A5', 'A3', 'E6', 'E4', 'D6', 'D4', 'E6', 'E4', 'D6', 'D4', 'C6', 'C4', 'D6', 'D4', 'E6', 'E4', 'F6', 'F4', 'G6', 'G4', 'E6', 'E4', 'F6', 'F4', 'E6', 'E4', 'D6', 'E6', 'D4', 'E4', 'D6', 'D4', 'C6', 'C4', 'B-5', 'B-3', 'A2', 'A3', 'E3', 'C#4', 'A3', 'E4', 'C#4', 'A4', 'E4', 'C#5', 'A4', 'E5', 'C#5', 'A4', 'C#4', 'C#5', 'E4', 'E5', 'A4', 'A5', 'C#5', 'C#6', 'E5', 'E6', 'A5', 'C#6', 'E5', 'A5', 'C#5', 'E5', 'A4', 'C#5', 'E4', 'A4', 'C#4', 'E5', 'A4', 'C#5', 'E4', 'A4', 'C#4', 'E4', 'A3', 'C#4', 'A3', 'A3', 'E3', 'A2', 'A5', 'A3', 'E6', 'E4', 'D6', 'D4', 'E6', 'E4', 'D6', 'D4', 'C6', 'C4', 'D6', 'D4', 'E6', 'E4', 'F6', 'F4', 'G6', 'G4', 'E6', 'E4', 'F6', 'F4', 'E6', 'E4', 'D6', 'E6', 'D4', 'E4', 'D6', 'D4', 'C6', 'C4', 'B-5', 'B-3', 'A5', 'A3', 'B-5', 'B-3', 'C6', 'C4', 'D6', 'D4', 'F6', 'F4', 'D6', 'E6', 'D4', 'E4', 'D6', 'D4', 'C6', 'C4', 'B-5', 'B-3', 'A5', 'A3', 'B-5', 'B-3', 'C6', 'C4', 'D6', 'D4', 'E6', 'E4', 'G6', 'G4', 'F6', 'F4', 'D6', 'D4', 'E6', 'E4', 'D6', 'D4', 'C6', 'C4', 'B-5', 'B-3', 'D6', 'D4', 'C#6', 'C#4', 'A2', 'B-4', 'C#4', 'A4', 'E3', 'C#4', 'B-4', 'A4', 'A3', 'C#4', 'B-4', 'A4', 'A2', 'D4', 'A4', 'G4', 'E3', 'A4', 'D4', 'G4', 'B-3', 'D4', 'A4', 'G4', 'A2', 'C#4', 'B-4', 'A4', 'E3', 'B-4', 'C#4', 'A4', 'A3', 'C#4', 'B-4', 'A4', 'A2', 'B-4', 'D4', 'A4', 'E3', 'A4', 'D4', 'G4', 'B-3', 'G4', 'D4', 'E4', 'A2', 'C#4', 'B-4', 'A4', 'E3', 'B-4', 'C#4', 'A4', 'A3', 'B-4', 'C#4', 'A4', 'F2', 'G4', 'A3', 'F4', 'C3', 'A3', 'G4', 'F4', 'A3', 'G4', 'A3', 'F4', 'C3', 'C4', 'F4', 'E4', 'G3', 'F4', 'C4', 'E4', 'C4', 'C4', 'F4', 'E4', 'G3', 'E4', 'B-3', 'D4', 'A3', 'E4', 'B-3', 'D4', 'C4', 'B-3', 'E4', 'B-3', 'D4', 'A2', 'C#4', 'B-4', 'A4', 'E3', 'C#4', 'B-4', 'A4', 'A3', 'C#4', 'B-4', 'A4', 'A2', 'A4', 'D4', 'G4', 'E3', 'D4', 'A4', 'G4', 'B-3', 'D4', 'A4', 'G4', 'A2', 'B-4', 'C#4', 'A4', 'E3', 'C#4', 'B-4', 'A4', 'A3', 'B-4', 'C#4', 'A4', 'A2', 'A4', 'D4', 'G4', 'E3', 'D4', 'A4', 'G4', 'B-3', 'A4', 'D4', 'G4', 'A2', 'A5', 'A3', 'B5', 'B3', 'C#6', 'C#4', 'D6', 'D4', 'E6', 'E4', 'F6', 'F4', 'E6', 'F6', 'E4', 'F4', 'E6', 'E4', 'D6', 'D4', 'C6', 'C4', 'D6', 'D4', 'E6', 'E4', 'F6', 'F4', 'G6', 'G4', 'E6', 'E4', 'F6', 'F4', 'E6', 'E4', 'D6', 'E6', 'D4', 'E4', 'D6', 'D4', 'C6', 'C4', 'B-5', 'B-3', 'A5', 'A3', 'B5', 'B3', 'C#6', 'C#4', 'D6', 'D4', 'E6', 'E4', 'F6', 'F4', 'G6', 'G4', 'A6', 'A4', 'B-6', 'C7', 'B-4', 'C5', 'B-6', 'B-4', 'A6', 'A4', 'G6', 'G4', 'A6', 'A4', 'A6', 'A4', 'G6', 'G4', 'B-6', 'B-4', 'A6', 'A4', 'F6', 'G6', 'F4', 'G4', 'F6', 'F4', 'E-6', 'E-4', 'D6', 'D4', 'E6', 'E4', 'C6', 'C4', 'B-5', 'B-3', 'A2', 'C#4', 'B-4', 'A4', 'E3', 'B-4', 'C#4', 'A4', 'A3', 'C#4', 'B-4', 'A4', 'A2', 'A4', 'D4', 'G4', 'E3', 'A4', 'D4', 'G4', 'B-3', 'A4', 'D4', 'G4', 'A2', 'C#4', 'B-4', 'A4', 'E3', 'B-4', 'C#4', 'A4', 'A3', 'B-4', 'C#4', 'A4', 'A2', 'B-4', 'D4', 'A4', 'E3', 'D4', 'A4', 'G4', 'B-3', 'G4', 'D4', 'E4', 'A2', 'C#4', 'B-4', 'A4', 'E3', 'B-4', 'C#4', 'A4', 'A3', 'C#4', 'B-4', 'A4', 'F2', 'G4', 'A3', 'F4', 'C3', 'G4', 'A3', 'F4', 'A3', 'G4', 'A3', 'F4', 'C3', 'C4', 'F4', 'E4', 'G3', 'C4', 'F4', 'E4', 'C4', 'C4', 'F4', 'E4', 'G3', 'E4', 'B-3', 'D4', 'A3', 'B-3', 'E4', 'D4', 'C4', 'B-3', 'B-3', 'E4', 'D4', 'A2', 'E3', '1.4', 'A3', 'D3', 'E3', 'F3', '10.2.4', 'G3', 'A3', 'B-3', 'C4', 'B-3', 'A3', 'A2', 'E3', '1.4', 'A3', 'D3', 'E3', 'F3', '10.2.4', 'G3', 'A3', 'B-3', 'C4', 'B-3', 'A3', '4.10', '2.8', 'B-5', 'B-3', 'C6', 'C4', 'D6', 'D4', 'F6', 'F4', 'D6', 'D4', 'C6', 'C4', 'C6', 'D6', 'C4', 'D4', 'C6', 'C4', 'B-5', 'B-3', 'F5', 'F3', 'B-5', 'B-3', 'A5', 'A3', 'G#5', 'G#3', 'F5', 'F3', 'E5', 'E3', 'D5', 'D3', 'A2', 'A3', 'E3', 'C#4', 'A3', 'E4', 'C#4', 'A4', 'E4', 'C#5', 'A4', 'E5', 'C#5', 'A4', 'C#4', 'C#5', 'E4', 'E5', 'A4', 'A5', 'C#5', 'C#6', 'E5', 'E6', 'A5', 'A4', 'C#4', 'C#5', 'E4', 'E5', 'A4', 'A5', 'C#5', 'C#6', 'E5', 'E6', 'A5', 'A5', 'C#5', 'C#6', 'E5', 'E6', 'A5', 'A6', 'C#6', 'C#7', 'E6', '4.9', '9.1.4']\n"
     ]
    }
   ],
   "source": [
    "notes = []\n",
    "file = \"music_src/albeniz/alb_esp1.mid\"\n",
    "midi = converter.parse(file)\n",
    "notes_to_parse = None\n",
    "\n",
    "parts = instrument.partitionByInstrument(midi)\n",
    "\n",
    "print(parts)\n",
    "\n",
    "if parts: # file has instrument parts\n",
    "    notes_to_parse = parts.parts[0].recurse()\n",
    "else: # file has notes in a flat structure\n",
    "    notes_to_parse = midi.flat.notes\n",
    "\n",
    "print(notes_to_parse)\n",
    "\n",
    "for element in notes_to_parse:\n",
    "    if isinstance(element, note.Note):\n",
    "        notes.append(str(element.pitch))\n",
    "    elif isinstance(element, chord.Chord):\n",
    "        notes.append('.'.join(str(n) for n in element.normalOrder))\n",
    "        #\n",
    "        \n",
    "print(notes)\n",
    "\n"
   ]
  },
  {
   "cell_type": "code",
   "execution_count": 17,
   "metadata": {},
   "outputs": [
    {
     "ename": "NameError",
     "evalue": "name 'n_vocab' is not defined",
     "traceback": [
      "\u001b[0;31m---------------------------------------------------------------------------\u001b[0m",
      "\u001b[0;31mNameError\u001b[0m                                 Traceback (most recent call last)",
      "\u001b[0;32m<ipython-input-17-3738d4c08469>\u001b[0m in \u001b[0;36m<module>\u001b[0;34m()\u001b[0m\n\u001b[1;32m     16\u001b[0m \u001b[0mnetwork_input\u001b[0m \u001b[0;34m=\u001b[0m \u001b[0mnumpy\u001b[0m\u001b[0;34m.\u001b[0m\u001b[0mreshape\u001b[0m\u001b[0;34m(\u001b[0m\u001b[0mnetwork_input\u001b[0m\u001b[0;34m,\u001b[0m \u001b[0;34m(\u001b[0m\u001b[0mn_patterns\u001b[0m\u001b[0;34m,\u001b[0m \u001b[0msequence_length\u001b[0m\u001b[0;34m,\u001b[0m \u001b[0;36m1\u001b[0m\u001b[0;34m)\u001b[0m\u001b[0;34m)\u001b[0m\u001b[0;34m\u001b[0m\u001b[0m\n\u001b[1;32m     17\u001b[0m \u001b[0;31m# normalize input\u001b[0m\u001b[0;34m\u001b[0m\u001b[0;34m\u001b[0m\u001b[0m\n\u001b[0;32m---> 18\u001b[0;31m \u001b[0mnetwork_input\u001b[0m \u001b[0;34m=\u001b[0m \u001b[0mnetwork_input\u001b[0m \u001b[0;34m/\u001b[0m \u001b[0mfloat\u001b[0m\u001b[0;34m(\u001b[0m\u001b[0mn_vocab\u001b[0m\u001b[0;34m)\u001b[0m\u001b[0;34m\u001b[0m\u001b[0m\n\u001b[0m\u001b[1;32m     19\u001b[0m \u001b[0mnetwork_output\u001b[0m \u001b[0;34m=\u001b[0m \u001b[0mnp_utils\u001b[0m\u001b[0;34m.\u001b[0m\u001b[0mto_categorical\u001b[0m\u001b[0;34m(\u001b[0m\u001b[0mnetwork_output\u001b[0m\u001b[0;34m)\u001b[0m\u001b[0;34m\u001b[0m\u001b[0m\n",
      "\u001b[0;31mNameError\u001b[0m: name 'n_vocab' is not defined"
     ],
     "output_type": "error"
    }
   ],
   "source": [
    "sequence_length = 100\n",
    "# get all pitch names\n",
    "pitchnames = sorted(set(item for item in notes))\n",
    "# create a dictionary to map pitches to integers\n",
    "note_to_int = dict((note, number) for number, note in enumerate(pitchnames))\n",
    "network_input = []\n",
    "network_output = []\n",
    "# create input sequences and the corresponding outputs\n",
    "for i in range(0, len(notes) - sequence_length, 1):\n",
    "    sequence_in = notes[i:i + sequence_length]\n",
    "    sequence_out = notes[i + sequence_length]\n",
    "    network_input.append([note_to_int[char] for char in sequence_in])\n",
    "    network_output.append(note_to_int[sequence_out])\n",
    "n_patterns = len(network_input)\n",
    "# reshape the input into a format compatible with LSTM layers\n",
    "network_input = numpy.reshape(network_input, (n_patterns, sequence_length, 1))\n",
    "# normalize input\n",
    "network_input = network_input / float(n_vocab)\n",
    "network_output = np_utils.to_categorical(network_output)"
   ]
  },
  {
   "cell_type": "code",
   "execution_count": null,
   "metadata": {},
   "outputs": [],
   "source": []
  }
 ],
 "metadata": {
  "kernelspec": {
   "display_name": "Python 2",
   "language": "python",
   "name": "python2"
  },
  "language_info": {
   "codemirror_mode": {
    "name": "ipython",
    "version": 2
   },
   "file_extension": ".py",
   "mimetype": "text/x-python",
   "name": "python",
   "nbconvert_exporter": "python",
   "pygments_lexer": "ipython2",
   "version": "2.7.15"
  }
 },
 "nbformat": 4,
 "nbformat_minor": 2
}
